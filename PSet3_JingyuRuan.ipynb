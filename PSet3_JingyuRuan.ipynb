{
 "cells": [
  {
   "cell_type": "markdown",
   "metadata": {
    "id": "Xz_DpwcINWEj"
   },
   "source": [
    "Problem set 3: Statistical basics\n",
    "\n",
    "Due: 11:59pm on Friday, September 20 by uploading to Brightspace\n",
    "\n",
    "Your name:\n",
    "\n",
    "1. Descriptive statistics and measures of variation. This section should be completed without generative AI, but with open access to static online resources like course material, stackoverflow, blogs with sample code, etc."
   ]
  },
  {
   "cell_type": "code",
   "execution_count": 9,
   "metadata": {
    "id": "OyKRkAwSVkrS"
   },
   "outputs": [
    {
     "name": "stdout",
     "output_type": "stream",
     "text": [
      "Mean: 0.4902565533201336, Median: 0.4968073765468109, Mode: 0.004632023004602859\n",
      "Range: 0.9950856502815277, Variance: 0.08525889400739081, Standard Deviation: 0.291991256731072\n",
      "Sample Mean: 0.4992356574741427, Sample Median: 0.4880753970047136, Sample Mode: 0.012154474689816341\n",
      "Sample Range: 0.9734959794207844, Sample Variance: 0.08303729965895683, Sample Standard Deviation: 0.2881619330497296\n",
      "\n",
      "Comparison between full dataset and sample: the average, median, range, variance, and standard deviation numbers are pretty much the same. \n",
      "This is because the sample is representative of the full dataset. But the mode is different because the sample size is smaller and the sample selection could be random.\n"
     ]
    }
   ],
   "source": [
    "# Generate a sample dataset of at least 1,000 random numbers\n",
    "import numpy as np\n",
    "from scipy import stats\n",
    "np.random.seed(42)\n",
    "data = np.random.rand(1000)\n",
    "\n",
    "# Calculate the mean, median, and mode of the dataset\n",
    "mean = np.mean(data)\n",
    "median = np.median(data)\n",
    "mode = stats.mode(data).mode\n",
    "print(f\"Mean: {mean}, Median: {median}, Mode: {mode}\")\n",
    "\n",
    "# Calculate the range, variance, and standard deviation of the dataset\n",
    "data_range = np.ptp(data)\n",
    "variance = np.var(data)\n",
    "std_dev = np.std(data)\n",
    "print(f\"Range: {data_range}, Variance: {variance}, Standard Deviation: {std_dev}\")\n",
    "\n",
    "# Perform a random sampling of 5% of the data\n",
    "sample_size = int(0.05 * len(data))\n",
    "random_sample = np.random.choice(data, size=sample_size, replace=False)\n",
    "\n",
    "# Calculate the mean, median, and mode as well as the range, variance, and standard deviation of the sample\n",
    "sample_mean = np.mean(random_sample)\n",
    "sample_median = np.median(random_sample)\n",
    "sample_mode = stats.mode(random_sample).mode\n",
    "sample_range = np.ptp(random_sample)\n",
    "sample_variance = np.var(random_sample)\n",
    "sample_std_dev = np.std(random_sample)\n",
    "print(f\"Sample Mean: {sample_mean}, Sample Median: {sample_median}, Sample Mode: {sample_mode}\")\n",
    "print(f\"Sample Range: {sample_range}, Sample Variance: {sample_variance}, Sample Standard Deviation: {sample_std_dev}\")\n",
    "\n",
    "# Compare the values from the random sample and the full dataset. Describe what you find\n",
    "print(\"\\nComparison between full dataset and sample: the average, median, range, variance, and standard deviation numbers are pretty much the same. \\nThis is because the sample is representative of the full dataset. But the mode is different because the sample size is smaller and the sample selection could be random.\")\n"
   ]
  },
  {
   "cell_type": "markdown",
   "metadata": {
    "id": "3tStjHFXaIGl"
   },
   "source": [
    "2. Generative AI comparison. Use a reliable generative AI like ChatGPT, Claude, Bing, Jupyter AI, etc. to answer the same questions as Section 1. You should alter the prompt given to the AI to maximize the accuracy and efficiency of its output. Paste both your prompt and the generative AI's output below.\n",
    "\n",
    "Generative AI prompt:"
   ]
  },
  {
   "cell_type": "code",
   "execution_count": 10,
   "metadata": {
    "id": "RuouGFA8auCd"
   },
   "outputs": [
    {
     "name": "stdout",
     "output_type": "stream",
     "text": [
      "Full dataset (population-style):\n",
      "\n",
      "  Mean: 0.4902565533201336\n",
      "  Median: 0.4968073765468109\n",
      "  Mode: 0.004632023004602859\n",
      "  Range: 0.9950856502815277\n",
      "  Variance: 0.08525889400739091\n",
      "  Standard Deviation: 0.2919912567310722\n",
      "\n",
      "Sample (population-style):\n",
      "\n",
      "  Mean: 0.46579603848900497\n",
      "  Median: 0.44387411030119067\n",
      "  Mode: 0.018221825651549728\n",
      "  Range: 0.9679889188280532\n",
      "  Variance: 0.0930791846459737\n",
      "  Standard Deviation: 0.3050888143573502\n",
      "\n",
      "Sample (sample-variance style, ddof=1):\n",
      "\n",
      "  Mean: 0.46579603848900497\n",
      "  Median: 0.44387411030119067\n",
      "  Mode: 0.018221825651549728\n",
      "  Range: 0.9679889188280532\n",
      "  Variance: 0.0949787598428303\n",
      "  Standard Deviation: 0.30818624213749435\n",
      "\n",
      "Comparison between full dataset and sample:\n",
      "- Means/medians are close (sample ≈ dataset), as expected for a random sample.\n",
      "- Variability in the sample is often a bit smaller or larger just by chance.\n",
      "- Mode differs a lot because for continuous uniforms the exact mode is unstable.\n"
     ]
    }
   ],
   "source": [
    "# Generative AI output\n",
    "# Generate a sample dataset of at least 1,000 random numbers\n",
    "\n",
    "# Calculate the mean, median, and mode of the dataset\n",
    "\n",
    "# Calculate the range, variance, and standard deviation of the dataset\n",
    "\n",
    "# Perform a random sampling of 5% of the data\n",
    "\n",
    "# Calculate the mean, median, and mode as well as the range, variance, and standard deviation of the sample\n",
    "\n",
    "# Compare the values from the random sample and the full dataset. Describe what you find\n",
    "\n",
    "\n",
    "# --- Solution starts here ---\n",
    "import numpy as np\n",
    "import pandas as pd\n",
    "\n",
    "# Reproducibility\n",
    "np.random.seed(42)\n",
    "\n",
    "# 1) Generate dataset (1,000+ random numbers in [0, 1))\n",
    "N = 1000\n",
    "data = np.random.rand(N)\n",
    "s_data = pd.Series(data)\n",
    "\n",
    "def stats(series: pd.Series, *, sample_variance=False):\n",
    "    \"\"\"Return a dict of summary stats for a numeric pandas Series.\n",
    "       If sample_variance=True, use ddof=1; else ddof=0 (population).\"\"\"\n",
    "    # Mode on continuous data is unstable; use pandas mode (may return multiple).\n",
    "    modes = series.mode()\n",
    "    mode_value = modes.iloc[0] if not modes.empty else np.nan\n",
    "    ddof = 1 if sample_variance else 0\n",
    "    mean = float(series.mean())\n",
    "    median = float(series.median())\n",
    "    variance = float(series.var(ddof=ddof))\n",
    "    std = float(series.std(ddof=ddof))\n",
    "    rng = float(series.max() - series.min())\n",
    "    return {\n",
    "        \"mean\": mean,\n",
    "        \"median\": median,\n",
    "        \"mode\": float(mode_value),\n",
    "        \"range\": rng,\n",
    "        \"variance\": variance,\n",
    "        \"std\": std,\n",
    "    }\n",
    "\n",
    "def pretty(label, d):\n",
    "    return (\n",
    "        f\"{label}\\n\"\n",
    "        f\"  Mean: {d['mean']}\\n\"\n",
    "        f\"  Median: {d['median']}\\n\"\n",
    "        f\"  Mode: {d['mode']}\\n\"\n",
    "        f\"  Range: {d['range']}\\n\"\n",
    "        f\"  Variance: {d['variance']}\\n\"\n",
    "        f\"  Standard Deviation: {d['std']}\\n\"\n",
    "    )\n",
    "\n",
    "# 2) Full dataset stats (population-style, ddof=0)\n",
    "full = stats(s_data, sample_variance=False)\n",
    "\n",
    "# 3) Random 5% sample (without replacement)\n",
    "sample_idx_count = max(1, int(0.05 * N))\n",
    "sample = s_data.sample(sample_idx_count, replace=False, random_state=42).reset_index(drop=True)\n",
    "\n",
    "# 4) Sample stats (population-style for apples-to-apples comparison)\n",
    "samp = stats(sample, sample_variance=False)\n",
    "\n",
    "# Optionally, show sample-variance style too (ddof=1) if you want:\n",
    "samp_samplevar = stats(sample, sample_variance=True)\n",
    "\n",
    "# 5) Print results\n",
    "print(\"Full dataset (population-style):\")\n",
    "print(pretty(\"\", full))\n",
    "\n",
    "print(\"Sample (population-style):\")\n",
    "print(pretty(\"\", samp))\n",
    "\n",
    "print(\"Sample (sample-variance style, ddof=1):\")\n",
    "print(pretty(\"\", samp_samplevar))\n",
    "\n",
    "# 6) Brief comparison\n",
    "print(\"Comparison between full dataset and sample:\")\n",
    "print(\n",
    "    f\"- Means/medians are close (sample ≈ dataset), as expected for a random sample.\\n\"\n",
    "    f\"- Variability in the sample is often a bit smaller or larger just by chance.\\n\"\n",
    "    f\"- Mode differs a lot because for continuous uniforms the exact mode is unstable.\"\n",
    ")\n"
   ]
  },
  {
   "cell_type": "markdown",
   "metadata": {
    "id": "5H44YdWPWWnc"
   },
   "source": [
    "3. Probability distributions and sampling. This section should be completed without generative AI, but with open access to static online resources like course material, stackoverflow, blogs with sample code, etc."
   ]
  },
  {
   "cell_type": "code",
   "execution_count": 11,
   "metadata": {
    "id": "oJOBfpoGWZxw"
   },
   "outputs": [
    {
     "name": "stdout",
     "output_type": "stream",
     "text": [
      "Probability of a value between 45 and 60: 0.532807207342556\n",
      "CLT Mean: 50.01006968798436, CLT Standard Deviation: 1.0015993081187784\n"
     ]
    }
   ],
   "source": [
    "# Using the SciPy library, calculate the probability of a value between 45 and 60 in a normal distribution with mean 50 and std deviation 10\n",
    "from scipy.stats import norm\n",
    "\n",
    "mean = 50\n",
    "std_dev = 10\n",
    "probability = norm.cdf(60, mean, std_dev) - norm.cdf(45, mean, std_dev)\n",
    "print(f\"Probability of a value between 45 and 60: {probability}\")\n",
    "\n",
    "# Simulate the Central Limit Theorem by repeatedly sampling and calculating sample means\n",
    "sample_means = []\n",
    "for _ in range(1000):\n",
    "    sample = np.random.normal(mean, std_dev, 100)\n",
    "    sample_means.append(np.mean(sample))\n",
    "\n",
    "# Calculate the mean and standard deviation of the sample means\n",
    "clt_mean = np.mean(sample_means)\n",
    "clt_std_dev = np.std(sample_means)\n",
    "print(f\"CLT Mean: {clt_mean}, CLT Standard Deviation: {clt_std_dev}\")"
   ]
  },
  {
   "cell_type": "markdown",
   "metadata": {
    "id": "ZJAs1y5Sa08f"
   },
   "source": [
    "4. Generative AI comparison. Use a reliable generative AI like ChatGPT, Claude, Bing, Jupyter AI, etc. to answer the same questions as Section 3. You should alter the prompt given to the AI to maximize the accuracy and efficiency of its output. Paste both your prompt and the generative AI's output below."
   ]
  },
  {
   "cell_type": "code",
   "execution_count": 12,
   "metadata": {},
   "outputs": [
    {
     "name": "stdout",
     "output_type": "stream",
     "text": [
      "Probability(45 ≤ X ≤ 60) for Normal(μ=50, σ=10): 0.532807\n",
      "Mean of sample means (CLT): 49.9184\n",
      "Std of sample means (CLT):  9.1271\n",
      "Theoretical std (σ/√n):     9.1287\n"
     ]
    }
   ],
   "source": [
    "# Using SciPy to compute a normal CDF probability, and simulating the CLT with simple code\n",
    "\n",
    "from scipy.stats import norm\n",
    "import numpy as np\n",
    "\n",
    "# --- Part 1: SciPy probability for a Normal(μ=50, σ=10) between 45 and 60 ---\n",
    "mu, sigma = 50, 10\n",
    "a, b = 45, 60\n",
    "p = norm.cdf(b, loc=mu, scale=sigma) - norm.cdf(a, loc=mu, scale=sigma)\n",
    "print(f\"Probability(45 ≤ X ≤ 60) for Normal(μ=50, σ=10): {p:.6f}\")\n",
    "\n",
    "# --- Part 2: Simulate the Central Limit Theorem (CLT) ---\n",
    "# We'll sample from a non-normal distribution (Exponential with mean=50) \n",
    "# so the CLT effect is clear. The mean of Exponential(scale=50) is 50, std is also 50.\n",
    "rng = np.random.default_rng(42)\n",
    "scale = 50.0              # Exponential scale parameter (mean = scale)\n",
    "n = 30                    # sample size per trial\n",
    "trials = 10000            # number of repeated samples\n",
    "\n",
    "# Draw (trials × n) samples, compute the mean of each row\n",
    "samples = rng.exponential(scale=scale, size=(trials, n))\n",
    "sample_means = samples.mean(axis=1)\n",
    "\n",
    "# --- Part 3: Mean and standard deviation of the sample means ---\n",
    "mean_of_means = sample_means.mean()\n",
    "std_of_means = sample_means.std(ddof=1)  # unbiased estimate\n",
    "\n",
    "# Theoretical comparison (for CLT): std of sample mean ≈ population std / sqrt(n)\n",
    "theoretical_std = scale / np.sqrt(n)  # since std of Exp(scale) = scale\n",
    "\n",
    "print(f\"Mean of sample means (CLT): {mean_of_means:.4f}\")\n",
    "print(f\"Std of sample means (CLT):  {std_of_means:.4f}\")\n",
    "print(f\"Theoretical std (σ/√n):     {theoretical_std:.4f}\")\n"
   ]
  },
  {
   "cell_type": "markdown",
   "metadata": {
    "id": "yoZtSPyfa8iY"
   },
   "source": [
    "5. Generative AI evaluation. Compare the code you produced using static sources to that produced by the generative AI. Write 2-3 paragraphs evaluating the strengths and weaknesses of both approaches. In doing so, you should answer the following questions:\n",
    "* Having now seen the code produced by Generative AI, how would you have written your code differently?\n",
    "* Where does Generative AI excel, and where did it fall short?\n",
    "* What was important in writing your prompt?\n",
    "\n",
    "1) How I’d change my code  \n",
    "- Use a non-normal source (e.g., exponential) to actually *show* the CLT.  \n",
    "- Set a random seed for reproducibility.  \n",
    "- Vectorize instead of looping for speed.  \n",
    "- Print a quick theory check (σ/√n) next to the simulated std.\n",
    "\n",
    "2) Where AI excelled vs. fell short  \n",
    "- Excelled: clear structure, good comments and a useful theory comparison.  \n",
    "- Fell short: a bit heavy for a simple homework, such as too much unnecessary explanations.\n",
    "\n",
    "3) What mattered in the prompt  \n",
    "- Being specific about the distribution, sample size, trials, and whether I want a theory check.  \n",
    "- Mentioning reproducibility (seed) and simplicity level.  \n",
    "- Saying exactly what outputs I expect (probability, std of means).\n"
   ]
  }
 ],
 "metadata": {
  "colab": {
   "provenance": []
  },
  "kernelspec": {
   "display_name": "base",
   "language": "python",
   "name": "python3"
  },
  "language_info": {
   "codemirror_mode": {
    "name": "ipython",
    "version": 3
   },
   "file_extension": ".py",
   "mimetype": "text/x-python",
   "name": "python",
   "nbconvert_exporter": "python",
   "pygments_lexer": "ipython3",
   "version": "3.12.4"
  }
 },
 "nbformat": 4,
 "nbformat_minor": 1
}
